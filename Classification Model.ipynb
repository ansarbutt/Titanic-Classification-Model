{
 "cells": [
  {
   "cell_type": "code",
   "execution_count": 1,
   "metadata": {},
   "outputs": [],
   "source": [
    "import pandas as pd\n",
    "import numpy as np\n",
    "import scipy.stats as st\n",
    "\n",
    "from boostaroota import BoostARoota\n",
    "\n",
    "from sklearn.model_selection import train_test_split\n",
    "from sklearn.model_selection import RandomizedSearchCV\n",
    "from sklearn.model_selection import cross_val_score\n",
    "from sklearn.metrics import roc_curve\n",
    "\n",
    "from xgboost import XGBClassifier\n",
    "from sklearn.ensemble import RandomForestClassifier, VotingClassifier\n",
    "from sklearn.svm import SVC \n",
    "\n",
    "\n",
    "np.random.seed(0)"
   ]
  },
  {
   "cell_type": "code",
   "execution_count": 2,
   "metadata": {},
   "outputs": [],
   "source": [
    "trainTreated = pd.read_csv('dTrainTreated.csv')\n",
    "trainTreated = trainTreated.drop('Unnamed: 0', 1)\n",
    "trainTreated.set_index('PassengerId', inplace=True)"
   ]
  },
  {
   "cell_type": "code",
   "execution_count": 3,
   "metadata": {},
   "outputs": [
    {
     "data": {
      "text/html": [
       "<div>\n",
       "<style scoped>\n",
       "    .dataframe tbody tr th:only-of-type {\n",
       "        vertical-align: middle;\n",
       "    }\n",
       "\n",
       "    .dataframe tbody tr th {\n",
       "        vertical-align: top;\n",
       "    }\n",
       "\n",
       "    .dataframe thead th {\n",
       "        text-align: right;\n",
       "    }\n",
       "</style>\n",
       "<table border=\"1\" class=\"dataframe\">\n",
       "  <thead>\n",
       "    <tr style=\"text-align: right;\">\n",
       "      <th></th>\n",
       "      <th>Pclass_catP</th>\n",
       "      <th>Pclass_catB</th>\n",
       "      <th>Age_clean</th>\n",
       "      <th>Age_isBAD</th>\n",
       "      <th>SibSp_catP</th>\n",
       "      <th>SibSp_catB</th>\n",
       "      <th>Parch_catP</th>\n",
       "      <th>Parch_catB</th>\n",
       "      <th>Ticket_catP</th>\n",
       "      <th>Ticket_catB</th>\n",
       "      <th>...</th>\n",
       "      <th>FamilySize_lev_x_1</th>\n",
       "      <th>FamilySize_lev_x_2</th>\n",
       "      <th>FamilySize_lev_x_3</th>\n",
       "      <th>FamilySize_lev_x_4</th>\n",
       "      <th>FamilySize_lev_x_6</th>\n",
       "      <th>Title_lev_x_Master</th>\n",
       "      <th>Title_lev_x_Miss</th>\n",
       "      <th>Title_lev_x_Mr</th>\n",
       "      <th>Title_lev_x_Mrs</th>\n",
       "      <th>Survived</th>\n",
       "    </tr>\n",
       "    <tr>\n",
       "      <th>PassengerId</th>\n",
       "      <th></th>\n",
       "      <th></th>\n",
       "      <th></th>\n",
       "      <th></th>\n",
       "      <th></th>\n",
       "      <th></th>\n",
       "      <th></th>\n",
       "      <th></th>\n",
       "      <th></th>\n",
       "      <th></th>\n",
       "      <th></th>\n",
       "      <th></th>\n",
       "      <th></th>\n",
       "      <th></th>\n",
       "      <th></th>\n",
       "      <th></th>\n",
       "      <th></th>\n",
       "      <th></th>\n",
       "      <th></th>\n",
       "      <th></th>\n",
       "      <th></th>\n",
       "    </tr>\n",
       "  </thead>\n",
       "  <tbody>\n",
       "    <tr>\n",
       "      <th>1</th>\n",
       "      <td>0.553872</td>\n",
       "      <td>-0.581229</td>\n",
       "      <td>22.0</td>\n",
       "      <td>0</td>\n",
       "      <td>0.244108</td>\n",
       "      <td>0.514673</td>\n",
       "      <td>0.744108</td>\n",
       "      <td>-0.182756</td>\n",
       "      <td>0.000842</td>\n",
       "      <td>0.000000</td>\n",
       "      <td>...</td>\n",
       "      <td>0</td>\n",
       "      <td>1</td>\n",
       "      <td>0</td>\n",
       "      <td>0</td>\n",
       "      <td>0</td>\n",
       "      <td>0</td>\n",
       "      <td>0</td>\n",
       "      <td>1</td>\n",
       "      <td>0</td>\n",
       "      <td>0</td>\n",
       "    </tr>\n",
       "    <tr>\n",
       "      <th>2</th>\n",
       "      <td>0.240741</td>\n",
       "      <td>0.884583</td>\n",
       "      <td>38.0</td>\n",
       "      <td>0</td>\n",
       "      <td>0.244108</td>\n",
       "      <td>0.514673</td>\n",
       "      <td>0.744108</td>\n",
       "      <td>-0.182756</td>\n",
       "      <td>0.000842</td>\n",
       "      <td>0.000000</td>\n",
       "      <td>...</td>\n",
       "      <td>0</td>\n",
       "      <td>1</td>\n",
       "      <td>0</td>\n",
       "      <td>0</td>\n",
       "      <td>0</td>\n",
       "      <td>0</td>\n",
       "      <td>0</td>\n",
       "      <td>0</td>\n",
       "      <td>1</td>\n",
       "      <td>1</td>\n",
       "    </tr>\n",
       "    <tr>\n",
       "      <th>3</th>\n",
       "      <td>0.555556</td>\n",
       "      <td>-0.682717</td>\n",
       "      <td>26.0</td>\n",
       "      <td>0</td>\n",
       "      <td>0.686869</td>\n",
       "      <td>-0.186950</td>\n",
       "      <td>0.765993</td>\n",
       "      <td>-0.138514</td>\n",
       "      <td>0.000842</td>\n",
       "      <td>0.000000</td>\n",
       "      <td>...</td>\n",
       "      <td>1</td>\n",
       "      <td>0</td>\n",
       "      <td>0</td>\n",
       "      <td>0</td>\n",
       "      <td>0</td>\n",
       "      <td>0</td>\n",
       "      <td>1</td>\n",
       "      <td>0</td>\n",
       "      <td>0</td>\n",
       "      <td>1</td>\n",
       "    </tr>\n",
       "    <tr>\n",
       "      <th>4</th>\n",
       "      <td>0.242424</td>\n",
       "      <td>1.074061</td>\n",
       "      <td>35.0</td>\n",
       "      <td>0</td>\n",
       "      <td>0.240741</td>\n",
       "      <td>0.683852</td>\n",
       "      <td>0.765993</td>\n",
       "      <td>-0.138514</td>\n",
       "      <td>0.001684</td>\n",
       "      <td>-8.737153</td>\n",
       "      <td>...</td>\n",
       "      <td>0</td>\n",
       "      <td>1</td>\n",
       "      <td>0</td>\n",
       "      <td>0</td>\n",
       "      <td>0</td>\n",
       "      <td>0</td>\n",
       "      <td>0</td>\n",
       "      <td>0</td>\n",
       "      <td>1</td>\n",
       "      <td>1</td>\n",
       "    </tr>\n",
       "    <tr>\n",
       "      <th>5</th>\n",
       "      <td>0.543771</td>\n",
       "      <td>-0.740099</td>\n",
       "      <td>35.0</td>\n",
       "      <td>0</td>\n",
       "      <td>0.691919</td>\n",
       "      <td>-0.187189</td>\n",
       "      <td>0.772727</td>\n",
       "      <td>-0.200315</td>\n",
       "      <td>0.000842</td>\n",
       "      <td>0.000000</td>\n",
       "      <td>...</td>\n",
       "      <td>1</td>\n",
       "      <td>0</td>\n",
       "      <td>0</td>\n",
       "      <td>0</td>\n",
       "      <td>0</td>\n",
       "      <td>0</td>\n",
       "      <td>0</td>\n",
       "      <td>1</td>\n",
       "      <td>0</td>\n",
       "      <td>0</td>\n",
       "    </tr>\n",
       "  </tbody>\n",
       "</table>\n",
       "<p>5 rows × 48 columns</p>\n",
       "</div>"
      ],
      "text/plain": [
       "             Pclass_catP  Pclass_catB  Age_clean  Age_isBAD  SibSp_catP  \\\n",
       "PassengerId                                                               \n",
       "1               0.553872    -0.581229       22.0          0    0.244108   \n",
       "2               0.240741     0.884583       38.0          0    0.244108   \n",
       "3               0.555556    -0.682717       26.0          0    0.686869   \n",
       "4               0.242424     1.074061       35.0          0    0.240741   \n",
       "5               0.543771    -0.740099       35.0          0    0.691919   \n",
       "\n",
       "             SibSp_catB  Parch_catP  Parch_catB  Ticket_catP  Ticket_catB  \\\n",
       "PassengerId                                                                 \n",
       "1              0.514673    0.744108   -0.182756     0.000842     0.000000   \n",
       "2              0.514673    0.744108   -0.182756     0.000842     0.000000   \n",
       "3             -0.186950    0.765993   -0.138514     0.000842     0.000000   \n",
       "4              0.683852    0.765993   -0.138514     0.001684    -8.737153   \n",
       "5             -0.187189    0.772727   -0.200315     0.000842     0.000000   \n",
       "\n",
       "               ...     FamilySize_lev_x_1  FamilySize_lev_x_2  \\\n",
       "PassengerId    ...                                              \n",
       "1              ...                      0                   1   \n",
       "2              ...                      0                   1   \n",
       "3              ...                      1                   0   \n",
       "4              ...                      0                   1   \n",
       "5              ...                      1                   0   \n",
       "\n",
       "             FamilySize_lev_x_3  FamilySize_lev_x_4  FamilySize_lev_x_6  \\\n",
       "PassengerId                                                               \n",
       "1                             0                   0                   0   \n",
       "2                             0                   0                   0   \n",
       "3                             0                   0                   0   \n",
       "4                             0                   0                   0   \n",
       "5                             0                   0                   0   \n",
       "\n",
       "             Title_lev_x_Master  Title_lev_x_Miss  Title_lev_x_Mr  \\\n",
       "PassengerId                                                         \n",
       "1                             0                 0               1   \n",
       "2                             0                 0               0   \n",
       "3                             0                 1               0   \n",
       "4                             0                 0               0   \n",
       "5                             0                 0               1   \n",
       "\n",
       "             Title_lev_x_Mrs  Survived  \n",
       "PassengerId                             \n",
       "1                          0         0  \n",
       "2                          1         1  \n",
       "3                          0         1  \n",
       "4                          1         1  \n",
       "5                          0         0  \n",
       "\n",
       "[5 rows x 48 columns]"
      ]
     },
     "execution_count": 3,
     "metadata": {},
     "output_type": "execute_result"
    }
   ],
   "source": [
    "trainTreated.head()"
   ]
  },
  {
   "cell_type": "code",
   "execution_count": 4,
   "metadata": {},
   "outputs": [
    {
     "name": "stdout",
     "output_type": "stream",
     "text": [
      "Round:  1  iteration:  1\n",
      "Round:  1  iteration:  2\n",
      "Round:  1  iteration:  3\n",
      "Round:  1  iteration:  4\n",
      "Round:  1  iteration:  5\n",
      "Round:  1  iteration:  6\n",
      "Round:  1  iteration:  7\n",
      "Round:  1  iteration:  8\n",
      "Round:  1  iteration:  9\n",
      "Round:  1  iteration:  10\n",
      "Round:  2  iteration:  1\n",
      "Round:  2  iteration:  2\n",
      "Round:  2  iteration:  3\n",
      "Round:  2  iteration:  4\n",
      "Round:  2  iteration:  5\n",
      "Round:  2  iteration:  6\n",
      "Round:  2  iteration:  7\n",
      "Round:  2  iteration:  8\n",
      "Round:  2  iteration:  9\n",
      "Round:  2  iteration:  10\n",
      "Round:  3  iteration:  1\n",
      "Round:  3  iteration:  2\n",
      "Round:  3  iteration:  3\n",
      "Round:  3  iteration:  4\n",
      "Round:  3  iteration:  5\n",
      "Round:  3  iteration:  6\n",
      "Round:  3  iteration:  7\n",
      "Round:  3  iteration:  8\n",
      "Round:  3  iteration:  9\n",
      "Round:  3  iteration:  10\n",
      "BoostARoota ran successfully! Algorithm went through  3  rounds.\n",
      "Original training set has (891, 47) dimensions. \n",
      "BoostARoota with .fit() and .transform() reduces to (891, 19) dimensions.\n"
     ]
    }
   ],
   "source": [
    "# BoostARoota from: https://github.com/chasedehan/BoostARoota\n",
    "br = BoostARoota(metric='logloss')\n",
    "train = trainTreated.loc[:, trainTreated.columns != 'Survived']\n",
    "label = trainTreated[\"Survived\"]\n",
    "\n",
    "br.fit(train,label)\n",
    "len(train.columns)\n",
    "len(br.keep_vars_)\n",
    "new_train = br.transform(train)\n",
    "\n",
    "print(\"Original training set has \" + str(train.shape) + \" dimensions. \\n\" +\\\n",
    "\"BoostARoota with .fit() and .transform() reduces to \" + str(new_train.shape) + \" dimensions.\")"
   ]
  },
  {
   "cell_type": "code",
   "execution_count": 5,
   "metadata": {},
   "outputs": [
    {
     "data": {
      "text/plain": [
       "['Pclass_catP',\n",
       " 'Pclass_catB',\n",
       " 'Age_clean',\n",
       " 'SibSp_catP',\n",
       " 'SibSp_catB',\n",
       " 'Parch_catP',\n",
       " 'Ticket_catP',\n",
       " 'Ticket_catB',\n",
       " 'Fare_clean',\n",
       " 'Cabin_catP',\n",
       " 'Cabin_catB',\n",
       " 'Embarked_catP',\n",
       " 'Embarked_catB',\n",
       " 'FamilySize_catP',\n",
       " 'FamilySize_catB',\n",
       " 'Title_catP',\n",
       " 'Title_catB',\n",
       " 'LastName_catP',\n",
       " 'LastName_catB']"
      ]
     },
     "execution_count": 5,
     "metadata": {},
     "output_type": "execute_result"
    }
   ],
   "source": [
    "list(new_train)"
   ]
  },
  {
   "cell_type": "code",
   "execution_count": 6,
   "metadata": {},
   "outputs": [],
   "source": [
    "# split data into train and test sets\n",
    "seed = 7\n",
    "test_size = 0\n",
    "X_train, X_test, y_train, y_test = train_test_split(new_train, label, test_size=test_size, random_state=seed)"
   ]
  },
  {
   "cell_type": "code",
   "execution_count": 7,
   "metadata": {
    "scrolled": true
   },
   "outputs": [
    {
     "data": {
      "text/plain": [
       "RandomizedSearchCV(cv=10, error_score='raise',\n",
       "          estimator=XGBClassifier(base_score=0.5, booster='gbtree', colsample_bylevel=1,\n",
       "       colsample_bytree=1, gamma=0, learning_rate=0.1, max_delta_step=0,\n",
       "       max_depth=3, min_child_weight=1, missing=None, n_estimators=100,\n",
       "       n_jobs=1, nthread=None, objective='binary:logistic', random_state=0,\n",
       "       reg_alpha=0, reg_lambda=1, scale_pos_weight=1, seed=None,\n",
       "       silent=True, subsample=1),\n",
       "          fit_params=None, iid=True, n_iter=200, n_jobs=1,\n",
       "          param_distributions={'n_estimators': <scipy.stats._distn_infrastructure.rv_frozen object at 0x0000024E168242B0>, 'max_depth': <scipy.stats._distn_infrastructure.rv_frozen object at 0x0000024E168244A8>, 'learning_rate': <scipy.stats._distn_infrastructure.rv_frozen object at 0x0000024E16824940>, 'cols...E8>, 'min_child_weight': <scipy.stats._distn_infrastructure.rv_frozen object at 0x0000024E168249E8>},\n",
       "          pre_dispatch='2*n_jobs', random_state=None, refit=True,\n",
       "          return_train_score='warn', scoring='roc_auc', verbose=0)"
      ]
     },
     "execution_count": 7,
     "metadata": {},
     "output_type": "execute_result"
    }
   ],
   "source": [
    "# distributions of params from: http://danielhnyk.cz/how-to-use-xgboost-in-python/\n",
    "\n",
    "XGBmodel = XGBClassifier()\n",
    "\n",
    "one_to_left = st.beta(10, 1)  \n",
    "from_zero_positive = st.expon(0, 50)\n",
    "XGB_search_params = {  \n",
    "    \"n_estimators\": st.randint(3, 40),\n",
    "    \"max_depth\": st.randint(3, 40),\n",
    "    \"learning_rate\": st.uniform(0.05, 0.4),\n",
    "    \"colsample_bytree\": one_to_left,\n",
    "    \"subsample\": one_to_left,\n",
    "    \"gamma\": st.uniform(0, 10),\n",
    "    'reg_alpha': from_zero_positive,\n",
    "    \"min_child_weight\": from_zero_positive,\n",
    "}\n",
    "\n",
    "\n",
    "XGBsearch = RandomizedSearchCV(XGBmodel, XGB_search_params, cv=10, scoring = 'roc_auc', n_iter=200)\n",
    "XGBsearch.fit(X_train, y_train)"
   ]
  },
  {
   "cell_type": "code",
   "execution_count": 8,
   "metadata": {},
   "outputs": [
    {
     "data": {
      "text/plain": [
       "RandomizedSearchCV(cv=10, error_score='raise',\n",
       "          estimator=RandomForestClassifier(bootstrap=True, class_weight=None, criterion='gini',\n",
       "            max_depth=None, max_features='auto', max_leaf_nodes=None,\n",
       "            min_impurity_decrease=0.0, min_impurity_split=None,\n",
       "            min_samples_leaf=1, min_samples_split=2,\n",
       "            min_weight_fraction_leaf=0.0, n_estimators=10, n_jobs=1,\n",
       "            oob_score=False, random_state=None, verbose=0,\n",
       "            warm_start=False),\n",
       "          fit_params=None, iid=True, n_iter=100, n_jobs=1,\n",
       "          param_distributions={'n_estimators': <scipy.stats._distn_infrastructure.rv_frozen object at 0x0000024E1697B6D8>, 'max_depth': <scipy.stats._distn_infrastructure.rv_frozen object at 0x0000024E1697B320>, 'min_samples_leaf': <scipy.stats._distn_infrastructure.rv_frozen object at 0x0000024E1697B278>},\n",
       "          pre_dispatch='2*n_jobs', random_state=None, refit=True,\n",
       "          return_train_score='warn', scoring='roc_auc', verbose=0)"
      ]
     },
     "execution_count": 8,
     "metadata": {},
     "output_type": "execute_result"
    }
   ],
   "source": [
    "RFmodel = RandomForestClassifier()\n",
    "\n",
    "RF_search_params = {  \n",
    "    \"n_estimators\": st.randint(3, 100),\n",
    "    \"max_depth\": st.randint(3, 50),\n",
    "    \"min_samples_leaf\": st.randint(1, 100)\n",
    "    }\n",
    "\n",
    "RFsearch = RandomizedSearchCV(RFmodel, RF_search_params, cv=10, scoring = 'roc_auc', n_iter=100)\n",
    "RFsearch.fit(X_train, y_train)\n"
   ]
  },
  {
   "cell_type": "code",
   "execution_count": 9,
   "metadata": {},
   "outputs": [
    {
     "data": {
      "text/plain": [
       "RandomizedSearchCV(cv=10, error_score='raise',\n",
       "          estimator=SVC(C=1.0, cache_size=200, class_weight=None, coef0=0.0,\n",
       "  decision_function_shape='ovr', degree=3, gamma='auto', kernel='rbf',\n",
       "  max_iter=-1, probability=True, random_state=None, shrinking=True,\n",
       "  tol=0.001, verbose=False),\n",
       "          fit_params=None, iid=True, n_iter=100, n_jobs=1,\n",
       "          param_distributions={'C': <scipy.stats._distn_infrastructure.rv_frozen object at 0x0000024E1675DC88>, 'gamma': <scipy.stats._distn_infrastructure.rv_frozen object at 0x0000024E1675D898>},\n",
       "          pre_dispatch='2*n_jobs', random_state=None, refit=True,\n",
       "          return_train_score='warn', scoring='roc_auc', verbose=0)"
      ]
     },
     "execution_count": 9,
     "metadata": {},
     "output_type": "execute_result"
    }
   ],
   "source": [
    "SVCmodel = SVC(probability=True)\n",
    "\n",
    "SVC_search_params = {\n",
    "    \"C\": st.uniform(0, 10),\n",
    "    \"gamma\": st.uniform(0.1, 1)\n",
    "    }\n",
    "\n",
    "SVCsearch = RandomizedSearchCV(SVCmodel, SVC_search_params, cv=10, scoring = 'roc_auc', n_iter=100)\n",
    "SVCsearch.fit(X_train, y_train)"
   ]
  },
  {
   "cell_type": "code",
   "execution_count": 16,
   "metadata": {},
   "outputs": [
    {
     "data": {
      "text/plain": [
       "VotingClassifier(estimators=[('XGB', XGBClassifier(base_score=0.5, booster='gbtree', colsample_bylevel=1,\n",
       "       colsample_bytree=0.9650190880431975, gamma=3.6638133543864893,\n",
       "       learning_rate=0.16705691888920274, max_delta_step=0, max_depth=34,\n",
       "       min_child_weight=4.380404876606213, missing=None, n_estimato...bf', max_iter=-1, probability=True, random_state=None,\n",
       "  shrinking=True, tol=0.001, verbose=False))],\n",
       "         flatten_transform=None, n_jobs=1, voting='soft', weights=None)"
      ]
     },
     "execution_count": 16,
     "metadata": {},
     "output_type": "execute_result"
    }
   ],
   "source": [
    "XGBparams = XGBsearch.best_params_\n",
    "XGBmodel.set_params(**XGBparams)\n",
    "XGBmodel.fit(X_train, y_train)\n",
    "\n",
    "RFparams = RFsearch.best_params_\n",
    "RFmodel.set_params(**RFparams)\n",
    "RFmodel.fit(X_train, y_train)\n",
    "\n",
    "SVCparams = SVCsearch.best_params_\n",
    "SVCmodel.set_params(**SVCparams)\n",
    "SVCmodel.fit(X_train, y_train)\n",
    "\n",
    "eclf = VotingClassifier(estimators=[\n",
    "       ('XGB', XGBmodel), ('RF', RFmodel), ('SVC', SVCmodel)], voting='soft')\n",
    "eclf.fit(X_train, y_train)"
   ]
  },
  {
   "cell_type": "code",
   "execution_count": 28,
   "metadata": {},
   "outputs": [
    {
     "data": {
      "text/plain": [
       "0.4225112345868191"
      ]
     },
     "execution_count": 28,
     "metadata": {},
     "output_type": "execute_result"
    }
   ],
   "source": [
    "predict_probabilities = eclf.predict_proba(X_train)[:,1]\n",
    "fpr, tpr, thresholds = roc_curve(y_train, predict_probabilities)\n",
    "optimal_threshold = thresholds[np.argmax(tpr - fpr)]"
   ]
  },
  {
   "cell_type": "code",
   "execution_count": 23,
   "metadata": {},
   "outputs": [],
   "source": [
    "testTreated = pd.read_csv('dTestTreated.csv')\n",
    "testTreated = testTreated.drop('Unnamed: 0', 1)\n",
    "testTreated.set_index('PassengerId', inplace=True)"
   ]
  },
  {
   "cell_type": "code",
   "execution_count": 24,
   "metadata": {},
   "outputs": [],
   "source": [
    "# Get the Boruta reduced column list\n",
    "boruta_columns = XGBmodel.get_booster().feature_names\n",
    "# Filter test set columns and remove the columns excluded by Boruta\n",
    "test_br = testTreated[np.intersect1d(testTreated.columns, boruta_columns)]\n",
    "# Ensure the order of the test set columns is aligned with the training set of the model\n",
    "test_br = test_br[boruta_columns]"
   ]
  },
  {
   "cell_type": "code",
   "execution_count": 25,
   "metadata": {},
   "outputs": [],
   "source": [
    "# y_pred_test = eclf.predict(test_br)\n",
    "y_pred_test = np.where(eclf.predict_proba(test_br)[:,1] > optimal_threshold, 1, 0)\n",
    "test_br['Survived'] = y_pred_test"
   ]
  },
  {
   "cell_type": "code",
   "execution_count": 26,
   "metadata": {},
   "outputs": [],
   "source": [
    "submission = test_br[['Survived']]\n",
    "submission.reset_index(inplace=True)\n",
    "submission.to_csv('submission.csv', index = False, header = True)\n",
    "submission.head()"
   ]
  }
 ],
 "metadata": {
  "kernelspec": {
   "display_name": "Python 3",
   "language": "python",
   "name": "python3"
  },
  "language_info": {
   "codemirror_mode": {
    "name": "ipython",
    "version": 3
   },
   "file_extension": ".py",
   "mimetype": "text/x-python",
   "name": "python",
   "nbconvert_exporter": "python",
   "pygments_lexer": "ipython3",
   "version": "3.6.4"
  }
 },
 "nbformat": 4,
 "nbformat_minor": 2
}
